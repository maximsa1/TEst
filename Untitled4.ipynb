{
 "cells": [
  {
   "cell_type": "code",
   "execution_count": 15,
   "id": "1fcbb66c",
   "metadata": {},
   "outputs": [],
   "source": [
    "import pandas as pd\n",
    "import matplotlib.pyplot as plt\n",
    "import seaborn as sns\n",
    "salary_data = pd.read_csv(\"Salary_Data.csv\")\n",
    "\n",
    "salary_data[salary_data.isnull().any(axis=1)]\n",
    "salary_data.dropna(inplace=True)\n",
    "\n",
    "def UnifyEducationLevels(s):\n",
    "    for e in ['Bachelor','Master','PhD']:\n",
    "        if e.lower() in s.lower(): return e\n",
    "        return s\n",
    "    salary_data['Education Level'] = salary_data['Education Level'].apply(UnifyEducationLevels)\n",
    "    \n",
    "    salary_data['Education Level'].value_counts()\n",
    "    \n",
    "    salary_data['Age'] = salary_data['Age'].value_astype('int')\n",
    "    \n",
    "    fix, axes = plt.subplots(nrows=2,ncols=3,figsize=(12,8))\n",
    "    salary_data['Age'].plot(kind='hist',ax=axes[0,0])\n",
    "    salary_data['Salary'].plot(kind='hist',ax=axes[0,1])\n",
    "    salary_data['Gender'].value_counts().plot(kind='bar',ax=axes[0,2])\n",
    "    salary_data['Education Level'].value_counts().plot(kind='bar',ax=axes[1,0])\n",
    "    salary_data['Job Titel'].value_counts()[:20].plot(kind='bar',ax=axes[1,1])\n",
    "    fig.suptitle('Таблица',fontsize=24)\n",
    "    plt.tight_layout()"
   ]
  },
  {
   "cell_type": "code",
   "execution_count": null,
   "id": "6eae7833",
   "metadata": {},
   "outputs": [],
   "source": []
  }
 ],
 "metadata": {
  "kernelspec": {
   "display_name": "Python 3 (ipykernel)",
   "language": "python",
   "name": "python3"
  },
  "language_info": {
   "codemirror_mode": {
    "name": "ipython",
    "version": 3
   },
   "file_extension": ".py",
   "mimetype": "text/x-python",
   "name": "python",
   "nbconvert_exporter": "python",
   "pygments_lexer": "ipython3",
   "version": "3.11.5"
  }
 },
 "nbformat": 4,
 "nbformat_minor": 5
}
