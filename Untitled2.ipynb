{
 "cells": [
  {
   "cell_type": "code",
   "execution_count": 41,
   "id": "62d107ff",
   "metadata": {},
   "outputs": [],
   "source": [
    "import hashlib\n",
    "import datetime\n",
    "\n",
    "class Block:\n",
    "    def __init__(self,timestemp,data,Previous_hash):\n",
    "        self.timestemp=Previous_hash\n",
    "        self.Previous_hash=Previous_hash\n",
    "        self.data=data\n",
    "        self.hash=self.canculate_hash()\n",
    "        \n",
    "    def canculate_hash(self):\n",
    "        hash_string = str(self.timestemp) + str(self.data) + str(self.Previous_hash)    \n",
    "        return hashlib.sha256(hash_string.encode()).hexdigest()\n",
    "myBlock = Block(datetime.datetime.now(),{\"data\":\"Transaction1\"},\"\")\n",
    "\n",
    "class Blockhain:\n",
    "    def init(self):\n",
    "        self.chain = [self.create_genesis_block()]\n",
    "        \n",
    "    def create_genesis_block(self):\n",
    "        return Block(datetime.datetime.now,\"Genesis Block\",\"0\")\n",
    "    \n",
    "    def add_block(self,new_block):\n",
    "        new_block.Previous_hash = self.chain[-1].hash\n",
    "        new_block.hash = new_block.calculate_hash()\n",
    "        self.chain.append(new_block)\n",
    "        \n",
    "    def is_chain_validself():\n",
    "        for i in range(1, len(self.chain)):\n",
    "            curren_block = self.chain[i]\n",
    "       \n",
    "            if Previous_block.hash != current_block.canculate_hash():\n",
    "                return False\n",
    "            if current_block.Previous_hash != Previous_block.hash:\n",
    "                return False\n",
    "            return  True\n",
    "    demo_blockchain = BlockChain()\n"
   ]
  },
  {
   "cell_type": "code",
   "execution_count": null,
   "id": "6e7a1f3d",
   "metadata": {},
   "outputs": [],
   "source": []
  },
  {
   "cell_type": "code",
   "execution_count": null,
   "id": "6cd424e4",
   "metadata": {},
   "outputs": [],
   "source": []
  },
  {
   "cell_type": "code",
   "execution_count": null,
   "id": "c00c3b89",
   "metadata": {},
   "outputs": [],
   "source": []
  },
  {
   "cell_type": "code",
   "execution_count": null,
   "id": "2aa3ca7d",
   "metadata": {},
   "outputs": [],
   "source": []
  },
  {
   "cell_type": "code",
   "execution_count": null,
   "id": "fb2fb55b",
   "metadata": {},
   "outputs": [],
   "source": []
  }
 ],
 "metadata": {
  "kernelspec": {
   "display_name": "Python 3 (ipykernel)",
   "language": "python",
   "name": "python3"
  },
  "language_info": {
   "codemirror_mode": {
    "name": "ipython",
    "version": 3
   },
   "file_extension": ".py",
   "mimetype": "text/x-python",
   "name": "python",
   "nbconvert_exporter": "python",
   "pygments_lexer": "ipython3",
   "version": "3.11.5"
  }
 },
 "nbformat": 4,
 "nbformat_minor": 5
}
